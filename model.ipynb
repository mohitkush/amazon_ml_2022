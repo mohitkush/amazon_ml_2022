{
 "cells": [
  {
   "cell_type": "code",
   "execution_count": 1,
   "metadata": {},
   "outputs": [],
   "source": [
    "import pandas as pd\n",
    "import matplotlib.pyplot as plt\n",
    "import seaborn as sns\n",
    "from summa import keywords\n",
    "from tqdm import tqdm"
   ]
  },
  {
   "cell_type": "code",
   "execution_count": 2,
   "metadata": {},
   "outputs": [],
   "source": [
    "CV=5\n",
    "cv_df = pd.DataFrame(index=range(CV * 5))"
   ]
  },
  {
   "cell_type": "code",
   "execution_count": null,
   "metadata": {},
   "outputs": [],
   "source": []
  },
  {
   "cell_type": "code",
   "execution_count": 71,
   "metadata": {},
   "outputs": [],
   "source": [
    "nona_train_df = train_df.dropna()"
   ]
  },
  {
   "cell_type": "code",
   "execution_count": 3,
   "metadata": {},
   "outputs": [],
   "source": [
    "train_df = pd.read_csv(\"./nona_train.csv\")\n",
    "#test_df = pd.read_csv(\"./dataset/test.csv\",escapechar = \"\\\\\", quoting = 3)\n",
    "#submission_df = pd.read_csv(\"./dataset/sample_submission.csv\",escapechar = \"\\\\\", quoting = 3)"
   ]
  },
  {
   "cell_type": "code",
   "execution_count": 9,
   "metadata": {},
   "outputs": [
    {
     "data": {
      "text/plain": [
       "Index(['Unnamed: 0', 'TITLE', 'DESCRIPTION', 'BULLET_POINTS', 'BRAND',\n",
       "       'BROWSE_NODE_ID'],\n",
       "      dtype='object')"
      ]
     },
     "execution_count": 9,
     "metadata": {},
     "output_type": "execute_result"
    }
   ],
   "source": [
    "train_df.columns"
   ]
  },
  {
   "cell_type": "markdown",
   "metadata": {},
   "source": [
    "#### Data Pre Processsing: removal of less useful words\n",
    "#### Feature selection: unigram/bigram models of the featureset using top occuring terms of each category levels, Reduce Cardinaliity\n",
    "#### Feature encoding one-hot encoding, targer(mean) encoding\n",
    "#### Multi-class classification models: Distance based, SVM, Decission trees"
   ]
  },
  {
   "cell_type": "code",
   "execution_count": 11,
   "metadata": {},
   "outputs": [],
   "source": [
    "train_df = train_df.drop(columns='Unnamed: 0',axis=1)"
   ]
  },
  {
   "cell_type": "code",
   "execution_count": 12,
   "metadata": {},
   "outputs": [
    {
     "data": {
      "text/plain": [
       "TITLE             0\n",
       "DESCRIPTION       0\n",
       "BULLET_POINTS     0\n",
       "BRAND             0\n",
       "BROWSE_NODE_ID    0\n",
       "dtype: int64"
      ]
     },
     "execution_count": 12,
     "metadata": {},
     "output_type": "execute_result"
    }
   ],
   "source": [
    "#check nan values\n",
    "train_df.isna().sum()"
   ]
  },
  {
   "cell_type": "code",
   "execution_count": 15,
   "metadata": {},
   "outputs": [
    {
     "data": {
      "text/html": [
       "<div>\n",
       "<style scoped>\n",
       "    .dataframe tbody tr th:only-of-type {\n",
       "        vertical-align: middle;\n",
       "    }\n",
       "\n",
       "    .dataframe tbody tr th {\n",
       "        vertical-align: top;\n",
       "    }\n",
       "\n",
       "    .dataframe thead th {\n",
       "        text-align: right;\n",
       "    }\n",
       "</style>\n",
       "<table border=\"1\" class=\"dataframe\">\n",
       "  <thead>\n",
       "    <tr style=\"text-align: right;\">\n",
       "      <th></th>\n",
       "      <th>TITLE</th>\n",
       "      <th>DESCRIPTION</th>\n",
       "      <th>BULLET_POINTS</th>\n",
       "      <th>BRAND</th>\n",
       "      <th>BROWSE_NODE_ID</th>\n",
       "    </tr>\n",
       "  </thead>\n",
       "  <tbody>\n",
       "    <tr>\n",
       "      <th>0</th>\n",
       "      <td>Pete The Cat Bedtime Blues Doll, 14.5 Inch</td>\n",
       "      <td>Pete the Cat is the coolest, most popular cat ...</td>\n",
       "      <td>[Pete the Cat Bedtime Blues plush doll,Based o...</td>\n",
       "      <td>MerryMakers</td>\n",
       "      <td>0</td>\n",
       "    </tr>\n",
       "    <tr>\n",
       "      <th>1</th>\n",
       "      <td>The New Yorker NYHM014 Refrigerator Magnet, 2 ...</td>\n",
       "      <td>The New Yorker Handsome Cello Wrapped Hard Mag...</td>\n",
       "      <td>[Cat In A Tea Cup by New Yorker cover artist G...</td>\n",
       "      <td>The New Yorker</td>\n",
       "      <td>1</td>\n",
       "    </tr>\n",
       "    <tr>\n",
       "      <th>2</th>\n",
       "      <td>Men'S Full Sleeve Raglan T-Shirts Denim T-Shir...</td>\n",
       "      <td>Men'S Full Sleeve Raglan T-Shirts Denim T-Shir...</td>\n",
       "      <td>[Color: Blue,Sleeve: Full Sleeve,Material: Cot...</td>\n",
       "      <td>Bhavya Enterprise</td>\n",
       "      <td>5</td>\n",
       "    </tr>\n",
       "    <tr>\n",
       "      <th>3</th>\n",
       "      <td>Glance Women's Wallet (Black) (LW-21)</td>\n",
       "      <td>This Black wallet by Glance will be a treasure...</td>\n",
       "      <td>[The Most Comfortable Women's Wallet That You ...</td>\n",
       "      <td>Glance</td>\n",
       "      <td>6</td>\n",
       "    </tr>\n",
       "    <tr>\n",
       "      <th>4</th>\n",
       "      <td>Wild Animals Hungry Brain Educational Flash Ca...</td>\n",
       "      <td>Wild Animals are the animals that mostly stays...</td>\n",
       "      <td>[Playful learning: Flash cards develops the lo...</td>\n",
       "      <td>hungry brain</td>\n",
       "      <td>7</td>\n",
       "    </tr>\n",
       "    <tr>\n",
       "      <th>5</th>\n",
       "      <td>Hindi Barakhadi Educational Flash Cards for Ki...</td>\n",
       "      <td>Hindi vowel signs and sounds are very importan...</td>\n",
       "      <td>[Playful learning: Flash cards develops the lo...</td>\n",
       "      <td>hungry brain</td>\n",
       "      <td>7</td>\n",
       "    </tr>\n",
       "    <tr>\n",
       "      <th>6</th>\n",
       "      <td>White : Braun KF400-WH Aromaster 10-Cup Coffee...</td>\n",
       "      <td>Color:White Product description 10 Cup Carafe ...</td>\n",
       "      <td>[Water-dispersal system provides fast, uniform...</td>\n",
       "      <td>Braun</td>\n",
       "      <td>11</td>\n",
       "    </tr>\n",
       "    <tr>\n",
       "      <th>7</th>\n",
       "      <td>Jiffy Steamer with Plastic Steam Head (Beige, ...</td>\n",
       "      <td>Jiffy J-2000 clothes steamer, 1300 watts, with...</td>\n",
       "      <td>[1300 watt solid brass heating element (120 vo...</td>\n",
       "      <td>Jiffy</td>\n",
       "      <td>14</td>\n",
       "    </tr>\n",
       "    <tr>\n",
       "      <th>8</th>\n",
       "      <td>OXO Good Grips BPA-Free Turkey Baster with Cle...</td>\n",
       "      <td>&lt;b&gt;OXO Good Grips Turkey Baster&lt;/b&gt;&lt;br&gt;&lt;br&gt;&lt;ul...</td>\n",
       "      <td>[Unique bulb shape and collar for two comforta...</td>\n",
       "      <td>OXO</td>\n",
       "      <td>16</td>\n",
       "    </tr>\n",
       "    <tr>\n",
       "      <th>9</th>\n",
       "      <td>Westcott 5684 5 x 6 Feet Collapsible Backdrop ...</td>\n",
       "      <td>Westcott offers many styles and colors of qual...</td>\n",
       "      <td>[Effortlessly opens and collapses in seconds,B...</td>\n",
       "      <td>Westcott</td>\n",
       "      <td>18</td>\n",
       "    </tr>\n",
       "  </tbody>\n",
       "</table>\n",
       "</div>"
      ],
      "text/plain": [
       "                                               TITLE  \\\n",
       "0         Pete The Cat Bedtime Blues Doll, 14.5 Inch   \n",
       "1  The New Yorker NYHM014 Refrigerator Magnet, 2 ...   \n",
       "2  Men'S Full Sleeve Raglan T-Shirts Denim T-Shir...   \n",
       "3              Glance Women's Wallet (Black) (LW-21)   \n",
       "4  Wild Animals Hungry Brain Educational Flash Ca...   \n",
       "5  Hindi Barakhadi Educational Flash Cards for Ki...   \n",
       "6  White : Braun KF400-WH Aromaster 10-Cup Coffee...   \n",
       "7  Jiffy Steamer with Plastic Steam Head (Beige, ...   \n",
       "8  OXO Good Grips BPA-Free Turkey Baster with Cle...   \n",
       "9  Westcott 5684 5 x 6 Feet Collapsible Backdrop ...   \n",
       "\n",
       "                                         DESCRIPTION  \\\n",
       "0  Pete the Cat is the coolest, most popular cat ...   \n",
       "1  The New Yorker Handsome Cello Wrapped Hard Mag...   \n",
       "2  Men'S Full Sleeve Raglan T-Shirts Denim T-Shir...   \n",
       "3  This Black wallet by Glance will be a treasure...   \n",
       "4  Wild Animals are the animals that mostly stays...   \n",
       "5  Hindi vowel signs and sounds are very importan...   \n",
       "6  Color:White Product description 10 Cup Carafe ...   \n",
       "7  Jiffy J-2000 clothes steamer, 1300 watts, with...   \n",
       "8  <b>OXO Good Grips Turkey Baster</b><br><br><ul...   \n",
       "9  Westcott offers many styles and colors of qual...   \n",
       "\n",
       "                                       BULLET_POINTS              BRAND  \\\n",
       "0  [Pete the Cat Bedtime Blues plush doll,Based o...        MerryMakers   \n",
       "1  [Cat In A Tea Cup by New Yorker cover artist G...     The New Yorker   \n",
       "2  [Color: Blue,Sleeve: Full Sleeve,Material: Cot...  Bhavya Enterprise   \n",
       "3  [The Most Comfortable Women's Wallet That You ...             Glance   \n",
       "4  [Playful learning: Flash cards develops the lo...       hungry brain   \n",
       "5  [Playful learning: Flash cards develops the lo...       hungry brain   \n",
       "6  [Water-dispersal system provides fast, uniform...              Braun   \n",
       "7  [1300 watt solid brass heating element (120 vo...              Jiffy   \n",
       "8  [Unique bulb shape and collar for two comforta...                OXO   \n",
       "9  [Effortlessly opens and collapses in seconds,B...           Westcott   \n",
       "\n",
       "   BROWSE_NODE_ID  \n",
       "0               0  \n",
       "1               1  \n",
       "2               5  \n",
       "3               6  \n",
       "4               7  \n",
       "5               7  \n",
       "6              11  \n",
       "7              14  \n",
       "8              16  \n",
       "9              18  "
      ]
     },
     "execution_count": 15,
     "metadata": {},
     "output_type": "execute_result"
    }
   ],
   "source": [
    "train_df.head(10)"
   ]
  },
  {
   "cell_type": "code",
   "execution_count": 13,
   "metadata": {},
   "outputs": [
    {
     "data": {
      "text/plain": [
       "1045       208992\n",
       "5           44483\n",
       "1052        37721\n",
       "1295        31128\n",
       "374         29891\n",
       "            ...  \n",
       "1860637         1\n",
       "2062081         1\n",
       "161185          1\n",
       "2036668         1\n",
       "1705928         1\n",
       "Name: BROWSE_NODE_ID, Length: 9636, dtype: int64"
      ]
     },
     "execution_count": 13,
     "metadata": {},
     "output_type": "execute_result"
    }
   ],
   "source": [
    "train_df['BROWSE_NODE_ID'].value_counts()"
   ]
  },
  {
   "cell_type": "markdown",
   "metadata": {},
   "source": [
    "## Punctuation removal"
   ]
  },
  {
   "cell_type": "code",
   "execution_count": 21,
   "metadata": {},
   "outputs": [],
   "source": [
    "from rake_nltk import Rake"
   ]
  },
  {
   "cell_type": "code",
   "execution_count": null,
   "metadata": {},
   "outputs": [
    {
     "name": "stderr",
     "output_type": "stream",
     "text": [
      "<ipython-input-74-5e6110cc703a>:4: SettingWithCopyWarning: \n",
      "A value is trying to be set on a copy of a slice from a DataFrame.\n",
      "Try using .loc[row_indexer,col_indexer] = value instead\n",
      "\n",
      "See the caveats in the documentation: https://pandas.pydata.org/pandas-docs/stable/user_guide/indexing.html#returning-a-view-versus-a-copy\n",
      "  nona_train_df['TITLE'] = nona_train_df['TITLE'].apply(lambda x:remove_punctuation(x))\n"
     ]
    }
   ],
   "source": [
    "def remove_punctuation(text):\n",
    "    punctuationfree=\"\".join([str(i) for i in text if str(i) not in string.punctuation])\n",
    "    return punctuationfree\n",
    "def lower(text):\n",
    "    return text.lower()\n",
    "def tokenize(text):\n",
    "    return re.split('W+',text)\n",
    "\n",
    "stopwords = nltk.corpus.stopwords.words('english')\n",
    "def remove_stopwords(text):\n",
    "    output= [i for i in text if i not in stopwords]\n",
    "    return output\n",
    "\n",
    "porter_stemmer = PorterStemmer()\n",
    "def stemming(text):\n",
    "    stem_text = [porter_stemmer.stem(word) for word in text]\n",
    "    return stem_text\n",
    "\n",
    "wordnet_lemmatizer = WordNetLemmatizer()\n",
    "def lemmatizer(text):\n",
    "    lemm_text = [wordnet_lemmatizer.lemmatize(word) for word in text]\n",
    "    return lemm_text"
   ]
  },
  {
   "cell_type": "code",
   "execution_count": 22,
   "metadata": {},
   "outputs": [],
   "source": [
    "rake_key = Rake()\n",
    "def keywords(text):\n",
    "    rake_key.extract_keywords_from_text(text)\n",
    "    keyword_extracted = rake_key.get_ranked_phrases()\n",
    "    return keyword_extracted"
   ]
  },
  {
   "cell_type": "code",
   "execution_count": 28,
   "metadata": {},
   "outputs": [
    {
     "name": "stderr",
     "output_type": "stream",
     "text": [
      "<ipython-input-28-6d59300a3ac7>:2: SettingWithCopyWarning: \n",
      "A value is trying to be set on a copy of a slice from a DataFrame\n",
      "\n",
      "See the caveats in the documentation: https://pandas.pydata.org/pandas-docs/stable/user_guide/indexing.html#returning-a-view-versus-a-copy\n",
      "  train_df.iloc[i]['TITLE'] = keywords(train_df.iloc[i]['TITLE'])\n",
      "<ipython-input-28-6d59300a3ac7>:3: SettingWithCopyWarning: \n",
      "A value is trying to be set on a copy of a slice from a DataFrame\n",
      "\n",
      "See the caveats in the documentation: https://pandas.pydata.org/pandas-docs/stable/user_guide/indexing.html#returning-a-view-versus-a-copy\n",
      "  train_df.iloc[i]['DESCRIPTION'] = keywords(train_df.iloc[i]['DESCRIPTION'])\n",
      "<ipython-input-28-6d59300a3ac7>:4: SettingWithCopyWarning: \n",
      "A value is trying to be set on a copy of a slice from a DataFrame\n",
      "\n",
      "See the caveats in the documentation: https://pandas.pydata.org/pandas-docs/stable/user_guide/indexing.html#returning-a-view-versus-a-copy\n",
      "  train_df.iloc[i]['BULLET_POINTS'] = keywords(train_df.iloc[i]['BULLET_POINTS'])\n"
     ]
    }
   ],
   "source": [
    "for i in range(len(train_df)):\n",
    "    train_df.iloc[i]['TITLE'] = kef_bonus = pd.ywords(train_df.iloc[i]['TITLE'])\n",
    "    train_df.iloc[i]['DESCRIPTION'] = keywords(train_df.iloc[i]['DESCRIPTION'])\n",
    "    train_df.iloc[i]['BULLET_POINTS'] = keywords(train_df.iloc[i]['BULLET_POINTS'])"
   ]
  },
  {
   "cell_type": "code",
   "execution_count": 30,
   "metadata": {},
   "outputs": [
    {
     "name": "stderr",
     "output_type": "stream",
     "text": [
      "<ipython-input-30-32f96fe01be1>:1: SettingWithCopyWarning: \n",
      "A value is trying to be set on a copy of a slice from a DataFrame\n",
      "\n",
      "See the caveats in the documentation: https://pandas.pydata.org/pandas-docs/stable/user_guide/indexing.html#returning-a-view-versus-a-copy\n",
      "  train_df.iloc[0]['TITLE'] = keywords(train_df.iloc[0]['TITLE'])\n"
     ]
    }
   ],
   "source": [
    "train_df.iloc[0]['TITLE'] = keywords(train_df.iloc[0]['TITLE'])"
   ]
  },
  {
   "cell_type": "code",
   "execution_count": 33,
   "metadata": {},
   "outputs": [
    {
     "name": "stderr",
     "output_type": "stream",
     "text": [
      "<ipython-input-33-f7650ead0728>:1: SettingWithCopyWarning: \n",
      "A value is trying to be set on a copy of a slice from a DataFrame\n",
      "\n",
      "See the caveats in the documentation: https://pandas.pydata.org/pandas-docs/stable/user_guide/indexing.html#returning-a-view-versus-a-copy\n",
      "  train_df.loc[0]['TITLE'] = keywords(train_df.iloc[0]['TITLE'])\n"
     ]
    }
   ],
   "source": [
    "train_df.loc[0]['TITLE'] = keywords(train_df.iloc[0]['TITLE'])"
   ]
  },
  {
   "cell_type": "code",
   "execution_count": 34,
   "metadata": {},
   "outputs": [
    {
     "data": {
      "text/plain": [
       "'Pete The Cat Bedtime Blues Doll, 14.5 Inch'"
      ]
     },
     "execution_count": 34,
     "metadata": {},
     "output_type": "execute_result"
    }
   ],
   "source": [
    "train_df.iloc[0]['TITLE']"
   ]
  },
  {
   "cell_type": "code",
   "execution_count": 57,
   "metadata": {},
   "outputs": [
    {
     "name": "stdout",
     "output_type": "stream",
     "text": [
      "['magnet', 'yorker', 'refrigerator', 'nyhm', 'x']\n",
      "['kitchen', 'prints', 'clean', 'style', 'dirty']\n",
      "['typography', 'cm', 'fridge', 'circular', 'magnet']\n",
      "['pc', 'latch', 'wardrobe', 'touch', 'cupboard']\n",
      "['fridge', 'orange', 'temperature', 'magnet', 'sg']\n",
      "['purple', 'block', 'printed', 'room', 'living']\n",
      "['combo', 'quality', 'pack', 'vprint', 'magnet']\n",
      "['locker', 'comforts', 'refrigerator', 'mall', 'magnet']\n",
      "['wildlife', 'artisans', 'society', 'coorg', 'embossed']\n",
      "['cafe', 'birthday', 'yaya', 'gifts', 'mummy']\n",
      "['souvenir', 'india', 'magnet', 'fridge', 'taj']\n",
      "['home', 'magnet', 'cafe', 'fridge', 'printed']\n",
      "['light', 'x', 'green', 'badges', 'texture']\n",
      "['magnet', 'neodymium', 'recovery', 'sea']\n",
      "['magnets', 'square', 'mdf']\n",
      "['wood', 'multipurpose', 'rays', 'seven', 'happiness']\n",
      "['eco', 'corner', 'material']\n",
      "['lock', 'hio', 'open', 'frame']\n",
      "['fridge', 'kaala', 'rajinikanth', 'karikala', 'magnet']\n",
      "['blackboard', 'wall', 'cum', 'x inches']\n",
      "['whiteboard', 'erase', 'dry', 'magnetic', 'sunshine']\n",
      "['badges', 'bike', 'x', 'anuman', 'button']\n",
      "['logo', 'magnet', 'coasters', 'assortment', 'avengers']\n",
      "['umhishop', 'set', 'key', 'fridge', 'ring']\n",
      "['x', 'enterprises', 'mm', 'vridhi', 'magnets', 'magnet']\n",
      "['doggie', 'pop', 'fridge', 'dane', 'great']\n",
      "['life', 'shoptwiz', 'short', 'lick', 'fridge']\n",
      "['bottle', 'india', 'opener', 'delhi', 'cum']\n",
      "['fiberboard', 'magnets', 'quirky']\n"
     ]
    },
    {
     "ename": "IndexError",
     "evalue": "list index out of range",
     "output_type": "error",
     "traceback": [
      "\u001b[0;31m---------------------------------------------------------------------------\u001b[0m",
      "\u001b[0;31mIndexError\u001b[0m                                Traceback (most recent call last)",
      "\u001b[0;32m<ipython-input-57-355044ba5c22>\u001b[0m in \u001b[0;36m<module>\u001b[0;34m\u001b[0m\n\u001b[1;32m      1\u001b[0m \u001b[0;32mfor\u001b[0m \u001b[0mi\u001b[0m \u001b[0;32min\u001b[0m \u001b[0mone_label\u001b[0m\u001b[0;34m.\u001b[0m\u001b[0mindex\u001b[0m\u001b[0;34m:\u001b[0m\u001b[0;34m\u001b[0m\u001b[0;34m\u001b[0m\u001b[0m\n\u001b[0;32m----> 2\u001b[0;31m     \u001b[0mprint\u001b[0m\u001b[0;34m(\u001b[0m\u001b[0mkeywords\u001b[0m\u001b[0;34m.\u001b[0m\u001b[0mkeywords\u001b[0m\u001b[0;34m(\u001b[0m\u001b[0mone_label\u001b[0m\u001b[0;34m[\u001b[0m\u001b[0;34m'TITLE'\u001b[0m\u001b[0;34m]\u001b[0m\u001b[0;34m[\u001b[0m\u001b[0mi\u001b[0m\u001b[0;34m]\u001b[0m\u001b[0;34m,\u001b[0m \u001b[0mwords\u001b[0m\u001b[0;34m=\u001b[0m\u001b[0;36m5\u001b[0m\u001b[0;34m)\u001b[0m\u001b[0;34m.\u001b[0m\u001b[0msplit\u001b[0m\u001b[0;34m(\u001b[0m\u001b[0;34m'\\n'\u001b[0m\u001b[0;34m)\u001b[0m\u001b[0;34m)\u001b[0m\u001b[0;34m\u001b[0m\u001b[0;34m\u001b[0m\u001b[0m\n\u001b[0m",
      "\u001b[0;32m~/.local/lib/python3.8/site-packages/summa/keywords.py\u001b[0m in \u001b[0;36mkeywords\u001b[0;34m(text, ratio, words, language, split, scores, deaccent, additional_stopwords)\u001b[0m\n\u001b[1;32m    207\u001b[0m     \u001b[0mpagerank_scores\u001b[0m \u001b[0;34m=\u001b[0m \u001b[0m_pagerank\u001b[0m\u001b[0;34m(\u001b[0m\u001b[0mgraph\u001b[0m\u001b[0;34m)\u001b[0m\u001b[0;34m\u001b[0m\u001b[0;34m\u001b[0m\u001b[0m\n\u001b[1;32m    208\u001b[0m \u001b[0;34m\u001b[0m\u001b[0m\n\u001b[0;32m--> 209\u001b[0;31m     \u001b[0mextracted_lemmas\u001b[0m \u001b[0;34m=\u001b[0m \u001b[0m_extract_tokens\u001b[0m\u001b[0;34m(\u001b[0m\u001b[0mgraph\u001b[0m\u001b[0;34m.\u001b[0m\u001b[0mnodes\u001b[0m\u001b[0;34m(\u001b[0m\u001b[0;34m)\u001b[0m\u001b[0;34m,\u001b[0m \u001b[0mpagerank_scores\u001b[0m\u001b[0;34m,\u001b[0m \u001b[0mratio\u001b[0m\u001b[0;34m,\u001b[0m \u001b[0mwords\u001b[0m\u001b[0;34m)\u001b[0m\u001b[0;34m\u001b[0m\u001b[0;34m\u001b[0m\u001b[0m\n\u001b[0m\u001b[1;32m    210\u001b[0m \u001b[0;34m\u001b[0m\u001b[0m\n\u001b[1;32m    211\u001b[0m     \u001b[0mlemmas_to_word\u001b[0m \u001b[0;34m=\u001b[0m \u001b[0m_lemmas_to_words\u001b[0m\u001b[0;34m(\u001b[0m\u001b[0mtokens\u001b[0m\u001b[0;34m)\u001b[0m\u001b[0;34m\u001b[0m\u001b[0;34m\u001b[0m\u001b[0m\n",
      "\u001b[0;32m~/.local/lib/python3.8/site-packages/summa/keywords.py\u001b[0m in \u001b[0;36m_extract_tokens\u001b[0;34m(lemmas, scores, ratio, words)\u001b[0m\n\u001b[1;32m    101\u001b[0m     \u001b[0;31m# reduced by the provided ratio, else, the ratio is ignored.\u001b[0m\u001b[0;34m\u001b[0m\u001b[0;34m\u001b[0m\u001b[0;34m\u001b[0m\u001b[0m\n\u001b[1;32m    102\u001b[0m     \u001b[0mlength\u001b[0m \u001b[0;34m=\u001b[0m \u001b[0mlen\u001b[0m\u001b[0;34m(\u001b[0m\u001b[0mlemmas\u001b[0m\u001b[0;34m)\u001b[0m \u001b[0;34m*\u001b[0m \u001b[0mratio\u001b[0m \u001b[0;32mif\u001b[0m \u001b[0mwords\u001b[0m \u001b[0;32mis\u001b[0m \u001b[0;32mNone\u001b[0m \u001b[0;32melse\u001b[0m \u001b[0mwords\u001b[0m\u001b[0;34m\u001b[0m\u001b[0;34m\u001b[0m\u001b[0m\n\u001b[0;32m--> 103\u001b[0;31m     \u001b[0;32mreturn\u001b[0m \u001b[0;34m[\u001b[0m\u001b[0;34m(\u001b[0m\u001b[0mscores\u001b[0m\u001b[0;34m[\u001b[0m\u001b[0mlemmas\u001b[0m\u001b[0;34m[\u001b[0m\u001b[0mi\u001b[0m\u001b[0;34m]\u001b[0m\u001b[0;34m]\u001b[0m\u001b[0;34m,\u001b[0m \u001b[0mlemmas\u001b[0m\u001b[0;34m[\u001b[0m\u001b[0mi\u001b[0m\u001b[0;34m]\u001b[0m\u001b[0;34m,\u001b[0m\u001b[0;34m)\u001b[0m \u001b[0;32mfor\u001b[0m \u001b[0mi\u001b[0m \u001b[0;32min\u001b[0m \u001b[0mrange\u001b[0m\u001b[0;34m(\u001b[0m\u001b[0mint\u001b[0m\u001b[0;34m(\u001b[0m\u001b[0mlength\u001b[0m\u001b[0;34m)\u001b[0m\u001b[0;34m)\u001b[0m\u001b[0;34m]\u001b[0m\u001b[0;34m\u001b[0m\u001b[0;34m\u001b[0m\u001b[0m\n\u001b[0m\u001b[1;32m    104\u001b[0m \u001b[0;34m\u001b[0m\u001b[0m\n\u001b[1;32m    105\u001b[0m \u001b[0;34m\u001b[0m\u001b[0m\n",
      "\u001b[0;32m~/.local/lib/python3.8/site-packages/summa/keywords.py\u001b[0m in \u001b[0;36m<listcomp>\u001b[0;34m(.0)\u001b[0m\n\u001b[1;32m    101\u001b[0m     \u001b[0;31m# reduced by the provided ratio, else, the ratio is ignored.\u001b[0m\u001b[0;34m\u001b[0m\u001b[0;34m\u001b[0m\u001b[0;34m\u001b[0m\u001b[0m\n\u001b[1;32m    102\u001b[0m     \u001b[0mlength\u001b[0m \u001b[0;34m=\u001b[0m \u001b[0mlen\u001b[0m\u001b[0;34m(\u001b[0m\u001b[0mlemmas\u001b[0m\u001b[0;34m)\u001b[0m \u001b[0;34m*\u001b[0m \u001b[0mratio\u001b[0m \u001b[0;32mif\u001b[0m \u001b[0mwords\u001b[0m \u001b[0;32mis\u001b[0m \u001b[0;32mNone\u001b[0m \u001b[0;32melse\u001b[0m \u001b[0mwords\u001b[0m\u001b[0;34m\u001b[0m\u001b[0;34m\u001b[0m\u001b[0m\n\u001b[0;32m--> 103\u001b[0;31m     \u001b[0;32mreturn\u001b[0m \u001b[0;34m[\u001b[0m\u001b[0;34m(\u001b[0m\u001b[0mscores\u001b[0m\u001b[0;34m[\u001b[0m\u001b[0mlemmas\u001b[0m\u001b[0;34m[\u001b[0m\u001b[0mi\u001b[0m\u001b[0;34m]\u001b[0m\u001b[0;34m]\u001b[0m\u001b[0;34m,\u001b[0m \u001b[0mlemmas\u001b[0m\u001b[0;34m[\u001b[0m\u001b[0mi\u001b[0m\u001b[0;34m]\u001b[0m\u001b[0;34m,\u001b[0m\u001b[0;34m)\u001b[0m \u001b[0;32mfor\u001b[0m \u001b[0mi\u001b[0m \u001b[0;32min\u001b[0m \u001b[0mrange\u001b[0m\u001b[0;34m(\u001b[0m\u001b[0mint\u001b[0m\u001b[0;34m(\u001b[0m\u001b[0mlength\u001b[0m\u001b[0;34m)\u001b[0m\u001b[0;34m)\u001b[0m\u001b[0;34m]\u001b[0m\u001b[0;34m\u001b[0m\u001b[0;34m\u001b[0m\u001b[0m\n\u001b[0m\u001b[1;32m    104\u001b[0m \u001b[0;34m\u001b[0m\u001b[0m\n\u001b[1;32m    105\u001b[0m \u001b[0;34m\u001b[0m\u001b[0m\n",
      "\u001b[0;31mIndexError\u001b[0m: list index out of range"
     ]
    }
   ],
   "source": [
    "one_label = train_df[train_df['BROWSE_NODE_ID']==1]\n",
    "for i in one_label.index:\n",
    "    print(keywords.keywords(one_label['TITLE'][i], words=5).split('\\n'))"
   ]
  },
  {
   "cell_type": "code",
   "execution_count": 39,
   "metadata": {},
   "outputs": [
    {
     "data": {
      "text/plain": [
       "'Barbie Fairytopia Magic of the Rainbow Mix & Switch Fairy: Dragonfly'"
      ]
     },
     "execution_count": 39,
     "metadata": {},
     "output_type": "execute_result"
    }
   ],
   "source": [
    "train_df['TITLE'][80]"
   ]
  },
  {
   "cell_type": "code",
   "execution_count": null,
   "metadata": {},
   "outputs": [],
   "source": []
  }
 ],
 "metadata": {
  "interpreter": {
   "hash": "916dbcbb3f70747c44a77c7bcd40155683ae19c65e1c03b4aa3499c5328201f1"
  },
  "kernelspec": {
   "display_name": "Python 3",
   "language": "python",
   "name": "python3"
  },
  "language_info": {
   "codemirror_mode": {
    "name": "ipython",
    "version": 3
   },
   "file_extension": ".py",
   "mimetype": "text/x-python",
   "name": "python",
   "nbconvert_exporter": "python",
   "pygments_lexer": "ipython3",
   "version": "3.8.10"
  }
 },
 "nbformat": 4,
 "nbformat_minor": 2
}
